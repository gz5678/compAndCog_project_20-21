{
 "cells": [
  {
   "cell_type": "code",
   "execution_count": 31,
   "metadata": {},
   "outputs": [],
   "source": [
    "from plotnine import *\n",
    "import pandas as pd\n",
    "import numpy as np\n",
    "from collections import defaultdict\n",
    "pd.options.display.float_format = '{:.2f}'.format\n",
    "np.set_printoptions(suppress=True)"
   ]
  },
  {
   "cell_type": "code",
   "execution_count": 32,
   "metadata": {},
   "outputs": [],
   "source": [
    "SUB1GAD = 'results\\subjectGAD1.csv'\n",
    "SUB2GAD = 'results\\subjectGAD2.csv'\n",
    "SUB1SAD = 'results\\subjectSAD1.csv'\n",
    "\n",
    "sub1G = pd.read_csv(SUB1GAD)\n",
    "sub2G = pd.read_csv(SUB2GAD)\n",
    "sub1S = pd.read_csv(SUB1SAD)\n",
    "\n",
    "sub1G = sub1G[sub1G['Mode'] == 'main']\n",
    "sub2G = sub2G[sub2G['Mode'] == 'main']\n",
    "sub1S = sub1S[sub1S['Mode'] == 'main']"
   ]
  },
  {
   "cell_type": "code",
   "execution_count": 35,
   "metadata": {},
   "outputs": [],
   "source": [
    "subDics = []\n",
    "for subject in [sub1G, sub2G, sub1S]:\n",
    "    dic = defaultdict(list)\n",
    "    lastVal = None\n",
    "    lastPress = None\n",
    "    delay = None\n",
    "    for index, row in subject.iterrows():\n",
    "        if lastVal == None:\n",
    "            lastVal = row['Today']\n",
    "            lastPress = row['Choice']\n",
    "            delay = row['Delay']\n",
    "        elif row['Choice'] != lastPress or row['Delay'] != delay or lastVal == row['Today']:\n",
    "            # We moved to a different delay, a new iterating block. No value was satifactory for a change of preference\n",
    "            if row['Delay'] != delay or lastVal == row['Today']:\n",
    "                dic[delay].append((lastVal, lastVal))\n",
    "                lastVal = row['Today']\n",
    "                lastPress = row['Choice']\n",
    "                delay = row['Delay']\n",
    "            # There was a change in preference. The value of change is the average between the current value and the last value.\n",
    "            # After that, we start a new iterating block until change, so we nullify all variables.\n",
    "            # We keep tuples of the actual value and the average value so we can check temporal consistency later.\n",
    "            else:\n",
    "                avgVal = (row['Today'] + lastVal) / 2.0\n",
    "                dic[delay].append((avgVal, row['Today']))\n",
    "                lastVal = None\n",
    "                lastPress = None\n",
    "                delay = None\n",
    "        # Still in the same iterating block so just need to save the last value.\n",
    "        else:\n",
    "            lastVal = row['Today']\n",
    "    # We need to check that we saved the last iteration block, since it might have ended with no change of preference.\n",
    "    if lastVal != None:\n",
    "        dic[delay].append((lastVal, lastVal))\n",
    "    subDics.append(dic)"
   ]
  },
  {
   "cell_type": "code",
   "execution_count": 36,
   "metadata": {},
   "outputs": [
    {
     "data": {
      "text/plain": [
       "[defaultdict(list,\n",
       "             {0.5: [(925.0, 900), (875.0, 900)],\n",
       "              36.0: [(665.5, 700), (550.0, 500)],\n",
       "              300.0: [(39.5, 25), (13.0, 25)],\n",
       "              12.0: [(615.5, 631), (724.0, 748)],\n",
       "              3.0: [(724.0, 748), (875.0, 900)],\n",
       "              6.0: [(615.5, 600), (550.0, 500)],\n",
       "              60.0: [(96.5, 100), (13.0, 25)],\n",
       "              0.25: [(925.0, 950), (925.0, 950)],\n",
       "              120.0: [(96.5, 100), (96.5, 93)],\n",
       "              1.0: [(1000, 1000), (875.0, 850)]}),\n",
       " defaultdict(list,\n",
       "             {300.0: [(13.0, 25), (150.0, 100)],\n",
       "              1.0: [(825.0, 800), (925.0, 950)],\n",
       "              0.25: [(875.0, 900), (975.0, 1000)],\n",
       "              60.0: [(550.0, 600), (615.5, 631)],\n",
       "              12.0: [(450.0, 400), (550.0, 500)],\n",
       "              120.0: [(550.0, 500), (665.5, 700)],\n",
       "              6.0: [(825.0, 850), (13.0, 25)],\n",
       "              0.5: [(975.0, 1000), (774.0, 748)],\n",
       "              36.0: [(450.0, 400), (724.0, 748)],\n",
       "              3.0: [(925.0, 950), (875.0, 900)]}),\n",
       " defaultdict(list,\n",
       "             {300.0: [(13.0, 25), (13.0, 25)],\n",
       "              0.25: [(975.0, 1000), (975.0, 1000)],\n",
       "              6.0: [(825.0, 800), (875.0, 900)],\n",
       "              60.0: [(450.0, 400), (382.0, 364)],\n",
       "              12.0: [(925.0, 900), (825.0, 850)],\n",
       "              3.0: [(774.0, 800), (875.0, 900)],\n",
       "              120.0: [(150.0, 100), (150.0, 100)],\n",
       "              36.0: [(450.0, 400), (150.0, 200)],\n",
       "              0.5: [(975.0, 950), (1, 1)],\n",
       "              1.0: [(975.0, 1000), (975.0, 950)]})]"
      ]
     },
     "execution_count": 36,
     "metadata": {},
     "output_type": "execute_result"
    }
   ],
   "source": [
    "subDics"
   ]
  },
  {
   "cell_type": "code",
   "execution_count": 37,
   "metadata": {},
   "outputs": [
    {
     "data": {
      "text/plain": [
       "[defaultdict(list,\n",
       "             {0.5: [(925.0, 900), (875.0, 900)],\n",
       "              36.0: [(665.5, 700), (550.0, 500)],\n",
       "              300.0: [(39.5, 25), (13.0, 25)],\n",
       "              12.0: [(615.5, 631), (724.0, 748)],\n",
       "              3.0: [(724.0, 748), (875.0, 900)],\n",
       "              6.0: [(615.5, 600), (550.0, 500)],\n",
       "              60.0: [(96.5, 100), (13.0, 25)],\n",
       "              0.25: [(925.0, 950), (925.0, 950)],\n",
       "              120.0: [(96.5, 100), (96.5, 93)],\n",
       "              1.0: [(1000, 1000), (875.0, 850)]}),\n",
       " defaultdict(list,\n",
       "             {300.0: [(13.0, 25), (150.0, 100)],\n",
       "              1.0: [(825.0, 800), (925.0, 950)],\n",
       "              0.25: [(875.0, 900), (975.0, 1000)],\n",
       "              60.0: [(550.0, 600), (615.5, 631)],\n",
       "              12.0: [(450.0, 400), (550.0, 500)],\n",
       "              120.0: [(550.0, 500), (665.5, 700)],\n",
       "              6.0: [(825.0, 850)],\n",
       "              0.5: [(975.0, 1000), (774.0, 748)],\n",
       "              36.0: [(450.0, 400), (724.0, 748)],\n",
       "              3.0: [(925.0, 950), (875.0, 900)]}),\n",
       " defaultdict(list,\n",
       "             {300.0: [(13.0, 25), (13.0, 25)],\n",
       "              0.25: [(975.0, 1000), (975.0, 1000)],\n",
       "              6.0: [(825.0, 800), (875.0, 900)],\n",
       "              60.0: [(450.0, 400), (382.0, 364)],\n",
       "              12.0: [(925.0, 900), (825.0, 850)],\n",
       "              3.0: [(774.0, 800), (875.0, 900)],\n",
       "              120.0: [(150.0, 100), (150.0, 100)],\n",
       "              36.0: [(450.0, 400), (150.0, 200)],\n",
       "              0.5: [(975.0, 950)],\n",
       "              1.0: [(975.0, 1000), (975.0, 950)]})]"
      ]
     },
     "execution_count": 37,
     "metadata": {},
     "output_type": "execute_result"
    }
   ],
   "source": [
    "# Remove outliers\n",
    "del subDics[1][6.0][1]\n",
    "del subDics[2][0.5][1]\n",
    "\n",
    "subDics"
   ]
  },
  {
   "cell_type": "code",
   "execution_count": 40,
   "metadata": {},
   "outputs": [
    {
     "data": {
      "text/plain": [
       "[{0.5: 900.0,\n",
       "  36.0: 607.75,\n",
       "  300.0: 26.25,\n",
       "  12.0: 669.75,\n",
       "  3.0: 799.5,\n",
       "  6.0: 582.75,\n",
       "  60.0: 54.75,\n",
       "  0.25: 925.0,\n",
       "  120.0: 96.5,\n",
       "  1.0: 937.5},\n",
       " {300.0: 81.5,\n",
       "  1.0: 875.0,\n",
       "  0.25: 925.0,\n",
       "  60.0: 582.75,\n",
       "  12.0: 500.0,\n",
       "  120.0: 607.75,\n",
       "  6.0: 825.0,\n",
       "  0.5: 874.5,\n",
       "  36.0: 587.0,\n",
       "  3.0: 900.0},\n",
       " {300.0: 13.0,\n",
       "  0.25: 975.0,\n",
       "  6.0: 850.0,\n",
       "  60.0: 416.0,\n",
       "  12.0: 875.0,\n",
       "  3.0: 824.5,\n",
       "  120.0: 150.0,\n",
       "  36.0: 300.0,\n",
       "  0.5: 975.0,\n",
       "  1.0: 975.0}]"
      ]
     },
     "execution_count": 40,
     "metadata": {},
     "output_type": "execute_result"
    }
   ],
   "source": [
    "# Create average per subject for every delay. These are the x and y values of the graph\n",
    "avgSubDics = []\n",
    "def getAverage(lstOfTuples):\n",
    "    averages = [elem[0] for elem in lstOfTuples]\n",
    "    return sum(averages) / len(averages)\n",
    "for dic in subDics:\n",
    "    avgSubDics.append({k: getAverage(v) for k,v in dic.items()})\n",
    "avgSubDics"
   ]
  },
  {
   "cell_type": "code",
   "execution_count": null,
   "metadata": {},
   "outputs": [],
   "source": []
  }
 ],
 "metadata": {
  "kernelspec": {
   "display_name": "Python 3",
   "language": "python",
   "name": "python3"
  },
  "language_info": {
   "codemirror_mode": {
    "name": "ipython",
    "version": 3
   },
   "file_extension": ".py",
   "mimetype": "text/x-python",
   "name": "python",
   "nbconvert_exporter": "python",
   "pygments_lexer": "ipython3",
   "version": "3.8.5"
  }
 },
 "nbformat": 4,
 "nbformat_minor": 4
}
